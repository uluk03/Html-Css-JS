{
  "nbformat": 4,
  "nbformat_minor": 0,
  "metadata": {
    "colab": {
      "provenance": [],
      "include_colab_link": true
    },
    "kernelspec": {
      "name": "python3",
      "display_name": "Python 3"
    },
    "language_info": {
      "name": "python"
    }
  },
  "cells": [
    {
      "cell_type": "markdown",
      "metadata": {
        "id": "view-in-github",
        "colab_type": "text"
      },
      "source": [
        "<a href=\"https://colab.research.google.com/github/uluk03/Html-Css-JS/blob/main/numpy_lab_2.ipynb\" target=\"_parent\"><img src=\"https://colab.research.google.com/assets/colab-badge.svg\" alt=\"Open In Colab\"/></a>"
      ]
    },
    {
      "cell_type": "code",
      "execution_count": 1,
      "metadata": {
        "id": "WhJaNlTJrg7T"
      },
      "outputs": [],
      "source": [
        "import numpy as np"
      ]
    },
    {
      "cell_type": "markdown",
      "source": [
        "# Task_1\n",
        "\n",
        "Даны массивы $x$ и $y$. Для каждой пары элементов массивов выполните вычисление по формуле:\n",
        "\n",
        "$$z = 2x + 3y - xy$$"
      ],
      "metadata": {
        "id": "uBaTLvH4y81o"
      }
    },
    {
      "cell_type": "code",
      "source": [
        "x = np.array([-3, -3, 12,  7,  2,  5, -5, -1,  3, 12,  3, -4,  9, 14, -1,  1,  4,\n",
        "       13,  9,  5])\n",
        "y = np.array([13,  0,  9, -1, 12,  4,  1,  1,  0, 13,  8, 14, -3, -5,  2,  8, -3,\n",
        "        2, 10, -3])"
      ],
      "metadata": {
        "id": "V6dQbbMIy8hR"
      },
      "execution_count": 2,
      "outputs": []
    },
    {
      "cell_type": "code",
      "source": [
        "\n",
        "\n",
        "\n",
        "\n",
        "\n",
        "\n",
        "z = 2 * x + 3 * y - x * y\n",
        "z"
      ],
      "metadata": {
        "id": "B3AIwH7zy8eV",
        "outputId": "a33ea61d-5035-4d56-8d78-95a1c3e68bef",
        "colab": {
          "base_uri": "https://localhost:8080/"
        }
      },
      "execution_count": 7,
      "outputs": [
        {
          "output_type": "execute_result",
          "data": {
            "text/plain": [
              "array([ 72,  -6, -57,  18,  16,   2,  -2,   2,   6, -93,   6,  90,  36,\n",
              "        83,   6,  18,  11,   6, -42,  16])"
            ]
          },
          "metadata": {},
          "execution_count": 7
        }
      ]
    },
    {
      "cell_type": "code",
      "source": [],
      "metadata": {
        "id": "P5TopCOwy8b2"
      },
      "execution_count": null,
      "outputs": []
    },
    {
      "cell_type": "markdown",
      "source": [
        "# Task_2\n",
        "\n",
        "Даны две матрицы $A$ и $B$. Выполните рассчет результирующей матрицы по формуле:\n",
        "\n",
        "$$C = 2A - 3B$$"
      ],
      "metadata": {
        "id": "_F8RizPS4xNj"
      }
    },
    {
      "cell_type": "code",
      "source": [
        "a = np.array([[  3,   5,  -5,  -6,  -9,   2,  -2],\n",
        "              [-10,  -3,  -5,   0,   6,   9,  -5],\n",
        "              [-10,   5,  -2,  -5,   0,   3,  -3],\n",
        "              [  7,  -3,  -2,   7,   1, -10,  -8],\n",
        "              [  8,  -5,  -4,  -9,   8,   4,   9],\n",
        "              [ -3,  -4,   6,  -3,  -2,   8,   3],\n",
        "              [  4,  -8,  -5,  -6,   1,   5,   1]])\n",
        "\n",
        "b = np.array([[ -2,  -1,   4, -10,  -1,   8,   5],\n",
        "              [ -1,  -1,  -5,  -9,   0,   5,  -7],\n",
        "              [ -5,  -5,  -2,  -6,   9,   8,  -6],\n",
        "              [  2,   5,  -1,   4,  -8,  -2,   1],\n",
        "              [ -6,  -5,   6,   1,   1,   5,  -7],\n",
        "              [  0,   3,  -8,  -1,  -3,   9,   1],\n",
        "              [  9,   7,  -7,   5,  -1,  -9,   6]])"
      ],
      "metadata": {
        "id": "pX1St9xq4xCI"
      },
      "execution_count": 4,
      "outputs": []
    },
    {
      "cell_type": "code",
      "source": [
        "\n",
        "\n",
        "c = 2 * a - 3 * b\n",
        "c"
      ],
      "metadata": {
        "id": "3CUHJGrz4w_A",
        "outputId": "41d30bab-4898-4214-d85c-99f12b687730",
        "colab": {
          "base_uri": "https://localhost:8080/"
        }
      },
      "execution_count": 5,
      "outputs": [
        {
          "output_type": "execute_result",
          "data": {
            "text/plain": [
              "array([[ 12,  13, -22,  18, -15, -20, -19],\n",
              "       [-17,  -3,   5,  27,  12,   3,  11],\n",
              "       [ -5,  25,   2,   8, -27, -18,  12],\n",
              "       [  8, -21,  -1,   2,  26, -14, -19],\n",
              "       [ 34,   5, -26, -21,  13,  -7,  39],\n",
              "       [ -6, -17,  36,  -3,   5, -11,   3],\n",
              "       [-19, -37,  11, -27,   5,  37, -16]])"
            ]
          },
          "metadata": {},
          "execution_count": 5
        }
      ]
    },
    {
      "cell_type": "code",
      "source": [],
      "metadata": {
        "id": "A8XzDG3j5ZOm"
      },
      "execution_count": null,
      "outputs": []
    },
    {
      "cell_type": "markdown",
      "source": [
        "# Task_3\n",
        "\n",
        "Дана матрица, где колонки - это переменные $x$ и $y$ соответственно. Для каждой пары элементов массивов выполните вычисление по формуле:\n",
        "\n",
        "$$z = 2x + 3y - xy$$"
      ],
      "metadata": {
        "id": "Y15nEo6P0eKn"
      }
    },
    {
      "cell_type": "code",
      "source": [
        "arr = np.array([x, y]).T"
      ],
      "metadata": {
        "id": "kY2sn0eM0fQ4"
      },
      "execution_count": 8,
      "outputs": []
    },
    {
      "cell_type": "code",
      "source": [
        "z = 2 * arr[:, 0] + 3 * arr[:, 1] - arr[:, 0] * arr[:, 1]\n",
        "z"
      ],
      "metadata": {
        "id": "Ld2PbbJU0fs6",
        "outputId": "33512d6f-db8e-4679-c3fe-c74d46360b24",
        "colab": {
          "base_uri": "https://localhost:8080/"
        }
      },
      "execution_count": 9,
      "outputs": [
        {
          "output_type": "execute_result",
          "data": {
            "text/plain": [
              "array([ 72,  -6, -57,  18,  16,   2,  -2,   2,   6, -93,   6,  90,  36,\n",
              "        83,   6,  18,  11,   6, -42,  16])"
            ]
          },
          "metadata": {},
          "execution_count": 9
        }
      ]
    },
    {
      "cell_type": "markdown",
      "source": [
        "# Task_4\n",
        "\n",
        "Дана матрица чисел. Вычислите\n",
        "\n",
        "* Сумму всех элементов\n",
        "* Сумму элементов каждой строки\n",
        "* Сумму элементов каждого столбца\n",
        "* Среднее по строкам\n",
        "* Медиану по столбцам\n",
        "* Минимальное значение из каждой строки\n",
        "* Сумму всех минимальных значений по каждой строке\n",
        "* Для каждого строкстолбца сумму квадратов элементов."
      ],
      "metadata": {
        "id": "Jzh2n1-R2IN7"
      }
    },
    {
      "cell_type": "code",
      "source": [
        "matr = np.array([[  5,   8,  -2,   7,  -6,  -2],\n",
        "                [  8,  -2,  -1, -10, -10,   7],\n",
        "                [  5,   9, -10,  -4,   1,   3],\n",
        "                [  1,   2,  -7,   6,  -6,  -2],\n",
        "                [  8,   4, -10,  -9,   1,  -6],\n",
        "                [ -4,  -5,  -9,  -1,  -3,  -3]])"
      ],
      "metadata": {
        "id": "eByN3dHu2qqw"
      },
      "execution_count": 10,
      "outputs": []
    },
    {
      "cell_type": "code",
      "source": [
        "\n",
        "sum_all = np.sum(matr)\n",
        "print(\"Сумма всех элементов:\", sum_all)\n",
        "\n",
        "sum_rows = np.sum(matr, axis=1)\n",
        "print(\"Сумма элементов каждой строки:\", sum_rows)\n",
        "\n",
        "sum_cols = np.sum(matr, axis=0)\n",
        "print(\"Сумма элементов каждого столбца:\", sum_cols)\n",
        "\n",
        "mean_rows = np.mean(matr, axis=1)\n",
        "print(\"Среднее по строкам:\", mean_rows)\n",
        "\n",
        "median_cols = np.median(matr, axis=0)\n",
        "print(\"Медиана по столбцам:\", median_cols)\n",
        "\n",
        "min_rows = np.min(matr, axis=1)\n",
        "print(\"Минимальное значение из каждой строки:\", min_rows)\n",
        "\n",
        "sum_min_rows = np.sum(min_rows)\n",
        "print(\"Сумма всех минимальных значений по каждой строке:\", sum_min_rows)\n",
        "\n",
        "sum_sq_rows = np.sum(matr**2, axis=1)\n",
        "print(\"Сумма квадратов элементов для каждой строки:\", sum_sq_rows)\n",
        "\n",
        "sum_sq_cols = np.sum(matr**2, axis=0)\n",
        "print(\"Сумма квадратов элементов для каждого столбца:\", sum_sq_cols)"
      ],
      "metadata": {
        "id": "wPWMn6oO21Wy",
        "outputId": "a07ccb3b-07bd-460f-e09e-c25a0f65379a",
        "colab": {
          "base_uri": "https://localhost:8080/"
        }
      },
      "execution_count": 11,
      "outputs": [
        {
          "output_type": "stream",
          "name": "stdout",
          "text": [
            "Сумма всех элементов: -37\n",
            "Сумма элементов каждой строки: [ 10  -8   4  -6 -12 -25]\n",
            "Сумма элементов каждого столбца: [ 23  16 -39 -11 -23  -3]\n",
            "Среднее по строкам: [ 1.66666667 -1.33333333  0.66666667 -1.         -2.         -4.16666667]\n",
            "Медиана по столбцам: [ 5.   3.  -8.  -2.5 -4.5 -2. ]\n",
            "Минимальное значение из каждой строки: [ -6 -10 -10  -7 -10  -9]\n",
            "Сумма всех минимальных значений по каждой строке: -52\n",
            "Сумма квадратов элементов для каждой строки: [182 318 232 130 298 141]\n",
            "Сумма квадратов элементов для каждого столбца: [195 194 335 283 183 111]\n"
          ]
        }
      ]
    },
    {
      "cell_type": "code",
      "source": [],
      "metadata": {
        "id": "IKQTHTwo21UI"
      },
      "execution_count": null,
      "outputs": []
    },
    {
      "cell_type": "markdown",
      "source": [
        "# Task_5\n",
        "\n",
        "Дан одномерный массив. Сделайте его преобразование по формуле.\n",
        "\n",
        "$$X_{norm} = \\frac{X - x_{min}}{x_{max} - x_{min}}$$"
      ],
      "metadata": {
        "id": "80Rt1H2u3xAl"
      }
    },
    {
      "cell_type": "code",
      "source": [
        "x = np.array([ 5, -7,  1, -5, -7, -5,  6, -1, -5, -9,  8,  1, -9, -6, -2])"
      ],
      "metadata": {
        "id": "qok9u7m921RT"
      },
      "execution_count": 12,
      "outputs": []
    },
    {
      "cell_type": "code",
      "source": [
        "\n",
        "\n",
        "x_min = np.min(x)\n",
        "x_max = np.max(x)\n",
        "\n",
        "x_norm = (x - x_min) / (x_max - x_min)\n",
        "\n",
        "x_norm"
      ],
      "metadata": {
        "id": "Arz2Wh4e21BF",
        "outputId": "4d61a942-97c1-4813-bc89-183039943a4e",
        "colab": {
          "base_uri": "https://localhost:8080/"
        }
      },
      "execution_count": 13,
      "outputs": [
        {
          "output_type": "execute_result",
          "data": {
            "text/plain": [
              "array([0.82352941, 0.11764706, 0.58823529, 0.23529412, 0.11764706,\n",
              "       0.23529412, 0.88235294, 0.47058824, 0.23529412, 0.        ,\n",
              "       1.        , 0.58823529, 0.        , 0.17647059, 0.41176471])"
            ]
          },
          "metadata": {},
          "execution_count": 13
        }
      ]
    },
    {
      "cell_type": "code",
      "source": [],
      "metadata": {
        "id": "hAX_fgpc20-f"
      },
      "execution_count": null,
      "outputs": []
    },
    {
      "cell_type": "markdown",
      "source": [
        "# Task_6\n",
        "\n",
        "Дана числовая матрица. Преобразуйте каждый столбец по формуле:\n",
        "\n",
        "$$X_{norm} = \\frac{X - x_{min}}{x_{max} - x_{min}}$$"
      ],
      "metadata": {
        "id": "bN5Am1pp5fcK"
      }
    },
    {
      "cell_type": "code",
      "source": [
        "matrix = np.array([[ -9,  -9,  -6,  -4,   2,   2,  -7],\n",
        "                    [ -5,  -6,  -3,   6,   9,  -3,  -6],\n",
        "                    [ -8,   2,   4,   1,  -1,  -8,   0],\n",
        "                    [  0,   1,   5,  -3,   9,   1,   6],\n",
        "                    [ -1,  -3,  -8,  -9,  -7,  -3, -10],\n",
        "                    [ -8,   0, -10,  -9,   4, -10,   0],\n",
        "                    [ -8, -10,  -9, -10,   5,   4,  -1]])"
      ],
      "metadata": {
        "id": "_abChUza4U7J"
      },
      "execution_count": 14,
      "outputs": []
    },
    {
      "cell_type": "code",
      "source": [
        "\n",
        "\n",
        "matrix_norm = (matrix - np.min(matrix, axis=0)) / (np.max(matrix, axis=0) - np.min(matrix, axis=0))\n",
        "matrix_norm"
      ],
      "metadata": {
        "id": "54vJMq3h5dpL",
        "outputId": "dd9d75ad-481f-4121-a0bb-b25d14777c83",
        "colab": {
          "base_uri": "https://localhost:8080/"
        }
      },
      "execution_count": 15,
      "outputs": [
        {
          "output_type": "execute_result",
          "data": {
            "text/plain": [
              "array([[0.        , 0.08333333, 0.26666667, 0.375     , 0.5625    ,\n",
              "        0.85714286, 0.1875    ],\n",
              "       [0.44444444, 0.33333333, 0.46666667, 1.        , 1.        ,\n",
              "        0.5       , 0.25      ],\n",
              "       [0.11111111, 1.        , 0.93333333, 0.6875    , 0.375     ,\n",
              "        0.14285714, 0.625     ],\n",
              "       [1.        , 0.91666667, 1.        , 0.4375    , 1.        ,\n",
              "        0.78571429, 1.        ],\n",
              "       [0.88888889, 0.58333333, 0.13333333, 0.0625    , 0.        ,\n",
              "        0.5       , 0.        ],\n",
              "       [0.11111111, 0.83333333, 0.        , 0.0625    , 0.6875    ,\n",
              "        0.        , 0.625     ],\n",
              "       [0.11111111, 0.        , 0.06666667, 0.        , 0.75      ,\n",
              "        1.        , 0.5625    ]])"
            ]
          },
          "metadata": {},
          "execution_count": 15
        }
      ]
    },
    {
      "cell_type": "code",
      "source": [],
      "metadata": {
        "id": "Di4rA6GH4U4P"
      },
      "execution_count": null,
      "outputs": []
    },
    {
      "cell_type": "markdown",
      "source": [
        "# Task_6_B\n",
        "\n",
        "Дан многомерный массив с картинками. Нормализуйте каждую картинку."
      ],
      "metadata": {
        "id": "E5HEHvjbfqPq"
      }
    },
    {
      "cell_type": "code",
      "source": [
        "images = np.random.randint(0, 255, (10, 3, 64, 64))\n",
        "images.shape"
      ],
      "metadata": {
        "id": "-Hf2zYZDfqBk",
        "outputId": "1d6647f5-4be8-4875-e1ac-f18a5487462b",
        "colab": {
          "base_uri": "https://localhost:8080/"
        }
      },
      "execution_count": 16,
      "outputs": [
        {
          "output_type": "execute_result",
          "data": {
            "text/plain": [
              "(10, 3, 64, 64)"
            ]
          },
          "metadata": {},
          "execution_count": 16
        }
      ]
    },
    {
      "cell_type": "code",
      "source": [
        "\n",
        "images_norm = (images - np.min(images, axis=(1, 2, 3), keepdims=True)) / (np.max(images, axis=(1, 2, 3), keepdims=True) - np.min(images, axis=(1, 2, 3), keepdims=True))"
      ],
      "metadata": {
        "id": "TMX_k--8fp_Y"
      },
      "execution_count": 17,
      "outputs": []
    },
    {
      "cell_type": "markdown",
      "source": [
        "# Task_7\n",
        "\n",
        "Дан двумерный набор чисел, где каждая строка - это стороны параллелепипеда. *(Для справки: аквариум, каждая грань которого - прямоугольник, является параллелепипедом)*\n",
        "\n",
        "Вычислите главную диагональ каждого параллелепипеда. Для этого существует \"трехмерная\" теорема Пифагора.\n",
        "\n",
        "$$d = \\sqrt{a^2 + b^2 + c^2}$$"
      ],
      "metadata": {
        "id": "tm4L7-7t6Fza"
      }
    },
    {
      "cell_type": "code",
      "source": [
        "fig = np.array([[ 1, 12,  1],\n",
        "                [ 1, 19, 19],\n",
        "                [ 6, 10,  4],\n",
        "                [13,  6, 15],\n",
        "                [ 7,  2, 13],\n",
        "                [18, 11, 16],\n",
        "                [18, 13,  8],\n",
        "                [ 5,  8, 19],\n",
        "                [ 7, 13, 18],\n",
        "                [ 4, 12, 14]])"
      ],
      "metadata": {
        "id": "25n5SaWW52j_"
      },
      "execution_count": 18,
      "outputs": []
    },
    {
      "cell_type": "code",
      "source": [
        "\n",
        "diagonal = np.sqrt(np.sum(fig ** 2, axis=1))\n",
        "diagonal"
      ],
      "metadata": {
        "id": "rryQ3UWl52hH",
        "outputId": "52662599-3742-4f87-b6b2-4c347264fda3",
        "colab": {
          "base_uri": "https://localhost:8080/"
        }
      },
      "execution_count": 19,
      "outputs": [
        {
          "output_type": "execute_result",
          "data": {
            "text/plain": [
              "array([12.08304597, 26.88865932, 12.32882801, 20.73644135, 14.89966443,\n",
              "       26.47640459, 23.60084744, 21.21320344, 23.28089345, 18.86796226])"
            ]
          },
          "metadata": {},
          "execution_count": 19
        }
      ]
    },
    {
      "cell_type": "code",
      "source": [],
      "metadata": {
        "id": "jDbE-ZT552eX"
      },
      "execution_count": null,
      "outputs": []
    },
    {
      "cell_type": "markdown",
      "source": [
        "## Task_8\n",
        "\n",
        "Даны два одномерных числовых массива. Для каждой пары рассчитайте среднее гармоническое.\n",
        "\n",
        "$$x_{garm} = \\frac{n}{\\frac{1}{x_1}+\\frac{1}{x_2}+ ... + \\frac{1}{x_n}}$$"
      ],
      "metadata": {
        "id": "pUIQkfmd7RtE"
      }
    },
    {
      "cell_type": "code",
      "source": [
        "x_1 = np.array([19,  1,  2,  6,  5,  2,  6,  1, 12, 19])\n",
        "x_2 = np.array([ 1,  5,  1,  6, -9,  8, -3,  10,  4,  5])"
      ],
      "metadata": {
        "id": "859blTXw7KCv"
      },
      "execution_count": 20,
      "outputs": []
    },
    {
      "cell_type": "code",
      "source": [
        "\n",
        "harmonic_mean = 2 / (1/x_1 + 1/x_2)\n",
        "harmonic_mean"
      ],
      "metadata": {
        "id": "u9qkk5Qi7J_4",
        "outputId": "690be5ff-90df-4b31-862d-21932cbbda67",
        "colab": {
          "base_uri": "https://localhost:8080/"
        }
      },
      "execution_count": 22,
      "outputs": [
        {
          "output_type": "execute_result",
          "data": {
            "text/plain": [
              "array([  1.9       ,   1.66666667,   1.33333333,   6.        ,\n",
              "        22.5       ,   3.2       , -12.        ,   1.81818182,\n",
              "         6.        ,   7.91666667])"
            ]
          },
          "metadata": {},
          "execution_count": 22
        }
      ]
    },
    {
      "cell_type": "code",
      "source": [],
      "metadata": {
        "id": "w-M7L-w37J9O"
      },
      "execution_count": null,
      "outputs": []
    },
    {
      "cell_type": "markdown",
      "source": [
        "# Task_9\n",
        "\n",
        "Дана числовая матрица. Для каждого ее столбца вычислите среднее гармоническое."
      ],
      "metadata": {
        "id": "bRV3dcd481dX"
      }
    },
    {
      "cell_type": "code",
      "source": [
        "matrix = np.array([[13,  1,  8, 18, 18,  1, 18, 15, 14, 18],\n",
        "                    [12, 11, 17, 15, 15,  8,  4,  7, 16, 15],\n",
        "                    [ 6, 17,  7,  5,  7,  1, 17, 12, 16, 19],\n",
        "                    [14, 10, 12, 18,  6, 18,  5, 19, 19, 17],\n",
        "                    [ 5, 14, 11,  5,  1, 16,  1,  7, 19, 19],\n",
        "                    [13, 18, 14,  1,  5,  4,  4,  4, 17,  7],\n",
        "                    [16,  9, 11, 14, 17,  1,  9, 18, 18,  4],\n",
        "                    [16,  2, 17, 11, 13, 16,  8,  3, 15,  1],\n",
        "                    [ 9,  6,  2,  7,  1,  9, 19,  7, 15,  4],\n",
        "                    [13,  1, 10, 11, 16,  8,  4, 18,  6, 11]])"
      ],
      "metadata": {
        "id": "J-DEcYgG9Ars"
      },
      "execution_count": 23,
      "outputs": []
    },
    {
      "cell_type": "code",
      "source": [
        "\n",
        "\n",
        "def harmonic_mean_column(column):\n",
        "  \"\"\"Вычисляет среднее гармоническое для столбца.\"\"\"\n",
        "  return len(column) / np.sum(1 / column)\n",
        "\n",
        "harmonic_means = [harmonic_mean_column(matrix[:, i]) for i in range(matrix.shape[1])]\n",
        "print(\"Среднее гармоническое для каждого столбца:\", harmonic_means)"
      ],
      "metadata": {
        "id": "pMW8YT1B9Aoy",
        "outputId": "f8029612-f3dc-4e13-a6ee-416d4b71e6a1",
        "colab": {
          "base_uri": "https://localhost:8080/"
        }
      },
      "execution_count": 24,
      "outputs": [
        {
          "output_type": "stream",
          "name": "stdout",
          "text": [
            "Среднее гармоническое для каждого столбца: [10.118293850572938, 3.1700799987083967, 7.563814265696552, 5.066159807003436, 3.533578096790168, 2.6373626373626373, 4.249673818895479, 7.543483740862113, 13.96509926173495, 4.950310899667294]\n"
          ]
        }
      ]
    },
    {
      "cell_type": "code",
      "source": [],
      "metadata": {
        "id": "-61dpoNG9Al-"
      },
      "execution_count": null,
      "outputs": []
    },
    {
      "cell_type": "markdown",
      "source": [
        "# Task_10\n",
        "\n",
        "Для массива из предыдущей задачи верните одномерный массив, где каждый элемент показывает, на сколько среднее в колонке отклоняется от среднего по всему массиву в абсолютном значении. Вам понадобится модуль разности."
      ],
      "metadata": {
        "id": "RxGTGNIa-Onb"
      }
    },
    {
      "cell_type": "code",
      "source": [
        "matrix"
      ],
      "metadata": {
        "id": "3GY4nMfM93K1",
        "outputId": "107d077a-9f29-4607-acfc-a0f02c19ca24",
        "colab": {
          "base_uri": "https://localhost:8080/"
        }
      },
      "execution_count": 25,
      "outputs": [
        {
          "output_type": "execute_result",
          "data": {
            "text/plain": [
              "array([[13,  1,  8, 18, 18,  1, 18, 15, 14, 18],\n",
              "       [12, 11, 17, 15, 15,  8,  4,  7, 16, 15],\n",
              "       [ 6, 17,  7,  5,  7,  1, 17, 12, 16, 19],\n",
              "       [14, 10, 12, 18,  6, 18,  5, 19, 19, 17],\n",
              "       [ 5, 14, 11,  5,  1, 16,  1,  7, 19, 19],\n",
              "       [13, 18, 14,  1,  5,  4,  4,  4, 17,  7],\n",
              "       [16,  9, 11, 14, 17,  1,  9, 18, 18,  4],\n",
              "       [16,  2, 17, 11, 13, 16,  8,  3, 15,  1],\n",
              "       [ 9,  6,  2,  7,  1,  9, 19,  7, 15,  4],\n",
              "       [13,  1, 10, 11, 16,  8,  4, 18,  6, 11]])"
            ]
          },
          "metadata": {},
          "execution_count": 25
        }
      ]
    },
    {
      "cell_type": "code",
      "source": [
        "\n",
        "mean_cols = np.mean(matrix, axis=0)\n",
        "mean_all = np.mean(matrix)\n",
        "deviation = np.abs(mean_cols - mean_all)\n",
        "print(\"Отклонение среднего в колонке от среднего по всему массиву:\", deviation)"
      ],
      "metadata": {
        "id": "wP6PC3YX-ONE",
        "outputId": "a624d08d-f32d-4011-d7e3-0435bf72328b",
        "colab": {
          "base_uri": "https://localhost:8080/"
        }
      },
      "execution_count": 26,
      "outputs": [
        {
          "output_type": "stream",
          "name": "stdout",
          "text": [
            "Отклонение среднего в колонке от среднего по всему массиву: [1.  1.8 0.2 0.2 0.8 2.5 1.8 0.3 4.8 0.8]\n"
          ]
        }
      ]
    },
    {
      "cell_type": "markdown",
      "source": [
        "# Task_11\n",
        "\n",
        "Вы делаете анализ рынка недвижимости. Перед вами задача для каждого земельного участка вычислить стоимость одной сотки земли. Вам даны 2 массива с необходимыми значениями. В Данных есть ошибки и некорректные значения. После рассчета, произведите чистку полученного массива."
      ],
      "metadata": {
        "id": "xLlz55Ud-q-g"
      }
    },
    {
      "cell_type": "code",
      "source": [
        "usd_price = np.array([ 96738., 135596.,  96282., 150607.,  67225.,  20191., 189050.,\n",
        "                    149399.,  81149.,     np.nan, 123021., 117118.,  78244.,  61019.,\n",
        "                        np.nan,     np.nan,     np.nan, 172613.,  96979., 145361., 179801.,\n",
        "                    192873.,  17723.,  38203.,  18272.,  47141., 197610., 120982.,\n",
        "                      29517.,     np.nan,  10968., 142459.,  87694.,  95156.,  11441.,\n",
        "                      69183., 128058., 120072.,  71501., 172044., 155418.,  74643.,\n",
        "                      22135., 169163.,  96552., 177093.,  13314.,  25725.,  20973.,\n",
        "                      48835.])\n",
        "squere = np.array([11, 10,  4, 19, 12, 17, 16, 16,  3, 11, 16, 0, 18, 13, 16,  4,  8,\n",
        "                  10, 16, 19,  7, 16,  6, 11, 11, 18, 14, 11,  8,  3, 19,  5,  9,  8,\n",
        "                  16,  5, 11,  3, 19,  4, 17, 0, 17, 12,  9,  4,  7, 14, 17, 0])"
      ],
      "metadata": {
        "id": "zNtSZ2oO-boi"
      },
      "execution_count": 27,
      "outputs": []
    },
    {
      "cell_type": "code",
      "source": [
        "\n",
        "\n",
        "usd_price = np.array([ 96738., 135596.,  96282., 150607.,  67225.,  20191., 189050.,\n",
        "                    149399.,  81149.,     np.nan, 123021., 117118.,  78244.,  61019.,\n",
        "                        np.nan,     np.nan,     np.nan, 172613.,  96979., 145361., 179801.,\n",
        "                    192873.,  17723.,  38203.,  18272.,  47141., 197610., 120982.,\n",
        "                      29517.,     np.nan,  10968., 142459.,  87694.,  95156.,  11441.,\n",
        "                      69183., 128058., 120072.,  71501., 172044., 155418.,  74643.,\n",
        "                      22135., 169163.,  96552., 177093.,  13314.,  25725.,  20973.,\n",
        "                      48835.])\n",
        "squere = np.array([11, 10,  4, 19, 12, 17, 16, 16,  3, 11, 16, 0, 18, 13, 16,  4,  8,\n",
        "                  10, 16, 19,  7, 16,  6, 11, 11, 18, 14, 11,  8,  3, 19,  5,  9,  8,\n",
        "                  16,  5, 11,  3, 19,  4, 17, 0, 17, 12,  9,  4,  7, 14, 17, 0])\n",
        "\n",
        "price_per_sotka = np.divide(usd_price, squere, out=np.full_like(usd_price, np.nan), where=squere != 0)\n",
        "\n",
        "\n",
        "\n",
        "cleaned_price_per_sotka = price_per_sotka[np.isfinite(price_per_sotka)]\n",
        "\n",
        "\n",
        "print(\"Стоимость одной сотки земли (после чистки):\", cleaned_price_per_sotka)"
      ],
      "metadata": {
        "id": "bq5V0IO2_0-9",
        "outputId": "50c5ffdb-fa82-4477-b04f-257c4ad0d198",
        "colab": {
          "base_uri": "https://localhost:8080/"
        }
      },
      "execution_count": 28,
      "outputs": [
        {
          "output_type": "stream",
          "name": "stdout",
          "text": [
            "Стоимость одной сотки земли (после чистки): [ 8794.36363636 13559.6        24070.5         7926.68421053\n",
            "  5602.08333333  1187.70588235 11815.625       9337.4375\n",
            " 27049.66666667  7688.8125      4346.88888889  4693.76923077\n",
            " 17261.3         6061.1875      7650.57894737 25685.85714286\n",
            " 12054.5625      2953.83333333  3473.          1661.09090909\n",
            "  2618.94444444 14115.         10998.36363636  3689.625\n",
            "   577.26315789 28491.8         9743.77777778 11894.5\n",
            "   715.0625     13836.6        11641.63636364 40024.\n",
            "  3763.21052632 43011.          9142.23529412  1302.05882353\n",
            " 14096.91666667 10728.         44273.25        1902.\n",
            "  1837.5         1233.70588235]\n"
          ]
        }
      ]
    },
    {
      "cell_type": "code",
      "source": [],
      "metadata": {
        "id": "s4uXDDZSA2aA"
      },
      "execution_count": null,
      "outputs": []
    },
    {
      "cell_type": "markdown",
      "source": [
        "# Task_12\n",
        "\n",
        "Дан числовой массив. Измените его таким образом, чтобы все нечетные элементы стали иметь значение 0. Используйте функцию `where()`."
      ],
      "metadata": {
        "id": "K9KMrG1eBJFz"
      }
    },
    {
      "cell_type": "code",
      "source": [
        "arr = np.arange(1, 50).reshape(7, 7)"
      ],
      "metadata": {
        "id": "6R9nR0u4A2XW"
      },
      "execution_count": 30,
      "outputs": []
    },
    {
      "cell_type": "code",
      "source": [
        "arr = np.arange(1, 50).reshape(7, 7)\n",
        "\n",
        "arr_modified = np.where(arr % 2 != 0, 0, arr)\n",
        "arr_modified"
      ],
      "metadata": {
        "id": "4ad0wEsdA2Ub",
        "outputId": "7ba98577-1700-4948-a725-3cc558f7c664",
        "colab": {
          "base_uri": "https://localhost:8080/"
        }
      },
      "execution_count": 29,
      "outputs": [
        {
          "output_type": "execute_result",
          "data": {
            "text/plain": [
              "array([[ 0,  2,  0,  4,  0,  6,  0],\n",
              "       [ 8,  0, 10,  0, 12,  0, 14],\n",
              "       [ 0, 16,  0, 18,  0, 20,  0],\n",
              "       [22,  0, 24,  0, 26,  0, 28],\n",
              "       [ 0, 30,  0, 32,  0, 34,  0],\n",
              "       [36,  0, 38,  0, 40,  0, 42],\n",
              "       [ 0, 44,  0, 46,  0, 48,  0]])"
            ]
          },
          "metadata": {},
          "execution_count": 29
        }
      ]
    },
    {
      "cell_type": "code",
      "source": [],
      "metadata": {
        "id": "ET4VFa4WA2Ra"
      },
      "execution_count": null,
      "outputs": []
    },
    {
      "cell_type": "markdown",
      "source": [
        "# Task_13\n",
        "\n",
        "Даны два одномерных числовых набора.\n",
        "\n",
        "* mean_price - средняя стоимость продуктов в категории.\n",
        "* price - реальная стоимость продукта в соответствующей категории.\n",
        "\n",
        "Отредактируйте массив price таким образом, чтобы в нем те значения стоимости, которые отклоняются от средней более чен на 30% были заменены на nan. Используйте функцию `where()`."
      ],
      "metadata": {
        "id": "NuDwvxqAByvY"
      }
    },
    {
      "cell_type": "code",
      "source": [
        "mean_price  = np.array([18013, 16619, 12592, 19584,  9968, 11577, 17709,  7279,  7187,\n",
        "                        15799,  7496,  7944, 13496, 15644,  7147, 19940,  5733,  9576,\n",
        "                        19029,  8327])\n",
        "price = np.array([ 9006, 23267, 12592, 21542, 10965,  8104, 21251,  8007,  3594,\n",
        "                  22119,  8246,  4766, 18894, 10951,  9291, 21934,  5160,  9576,\n",
        "                  20932,  4164])"
      ],
      "metadata": {
        "id": "_h86AE7RA2L7"
      },
      "execution_count": 31,
      "outputs": []
    },
    {
      "cell_type": "code",
      "source": [
        "\n",
        "price_modified = np.where(np.abs((price - mean_price) / mean_price) > 0.3, np.nan, price)\n",
        "price_modified"
      ],
      "metadata": {
        "id": "kPs-GOjQDbH8",
        "outputId": "03a5dc4a-9c0f-40a8-9f44-cf3f51928ef5",
        "colab": {
          "base_uri": "https://localhost:8080/"
        }
      },
      "execution_count": 32,
      "outputs": [
        {
          "output_type": "execute_result",
          "data": {
            "text/plain": [
              "array([   nan,    nan, 12592., 21542., 10965.,  8104., 21251.,  8007.,\n",
              "          nan,    nan,  8246.,    nan,    nan, 10951.,  9291., 21934.,\n",
              "        5160.,  9576., 20932.,    nan])"
            ]
          },
          "metadata": {},
          "execution_count": 32
        }
      ]
    },
    {
      "cell_type": "code",
      "source": [],
      "metadata": {
        "id": "57z3JnZ-ETJ9"
      },
      "execution_count": null,
      "outputs": []
    },
    {
      "cell_type": "markdown",
      "source": [
        "# Task_13\n",
        "\n",
        "Дана числовая матрица. Мы хотим каждый элемент каждой строки увеличить на сколько-то процентов. Для этого нам дан список со значением процентного числа для каждого столбца. Выполните коррекцию значений матрицы."
      ],
      "metadata": {
        "id": "WwtATKixExgM"
      }
    },
    {
      "cell_type": "code",
      "source": [
        "matrix = np.array([[41, 10, 23, 26, 38],\n",
        "                  [42, 33, 44, 40, 36],\n",
        "                  [27, 40, 38, 12, 37],\n",
        "                  [25, 28, 47, 31, 37],\n",
        "                  [25, 33, 43, 20, 38]])\n",
        "perc_list = [10, 15, 5, 25, 40]"
      ],
      "metadata": {
        "id": "PXUKBYZmDbFO"
      },
      "execution_count": 33,
      "outputs": []
    },
    {
      "cell_type": "code",
      "source": [
        "matrix = np.array([[41, 10, 23, 26, 38],\n",
        "                  [42, 33, 44, 40, 36],\n",
        "                  [27, 40, 38, 12, 37],\n",
        "                  [25, 28, 47, 31, 37],\n",
        "                  [25, 33, 43, 20, 38]])\n",
        "perc_list = [10, 15, 5, 25, 40]\n",
        "\n",
        "for i in range(matrix.shape[0]):\n",
        "  for j in range(matrix.shape[1]):\n",
        "    matrix[i, j] = matrix[i, j] * (1 + perc_list[j] / 100)\n",
        "\n",
        "matrix"
      ],
      "metadata": {
        "id": "3rUvxtsgGAX5",
        "outputId": "064f52fe-933d-4eeb-9fa4-c9197d389748",
        "colab": {
          "base_uri": "https://localhost:8080/"
        }
      },
      "execution_count": 34,
      "outputs": [
        {
          "output_type": "execute_result",
          "data": {
            "text/plain": [
              "array([[45, 11, 24, 32, 53],\n",
              "       [46, 37, 46, 50, 50],\n",
              "       [29, 46, 39, 15, 51],\n",
              "       [27, 32, 49, 38, 51],\n",
              "       [27, 37, 45, 25, 53]])"
            ]
          },
          "metadata": {},
          "execution_count": 34
        }
      ]
    },
    {
      "cell_type": "code",
      "source": [],
      "metadata": {
        "id": "W4C9rXViGAVG"
      },
      "execution_count": null,
      "outputs": []
    },
    {
      "cell_type": "markdown",
      "source": [
        "# Task_14*\n",
        "\n",
        "Дан массив, где каждая строка - это координаты точки в декартовом двумерном пространстве. Все точки образуют Кластер. Найдите координату середины данного кластера."
      ],
      "metadata": {
        "id": "v8B-G81oGxcl"
      }
    },
    {
      "cell_type": "code",
      "source": [
        "coords = np.random.randn(100, 2) + np.array([2, 3])"
      ],
      "metadata": {
        "id": "_2Yw1VfmHLJc"
      },
      "execution_count": 35,
      "outputs": []
    },
    {
      "cell_type": "code",
      "source": [
        "# vizual\n",
        "import seaborn as sns"
      ],
      "metadata": {
        "id": "KGnxXfVtGKOj"
      },
      "execution_count": 36,
      "outputs": []
    },
    {
      "cell_type": "code",
      "source": [
        "sns.scatterplot(x = coords[:, 0], y = coords[:, 1], color='green')"
      ],
      "metadata": {
        "colab": {
          "base_uri": "https://localhost:8080/",
          "height": 447
        },
        "id": "TTp6pT1qGtUB",
        "outputId": "8a18fcfe-82dc-45b0-f71c-99e17428bb7b"
      },
      "execution_count": 37,
      "outputs": [
        {
          "output_type": "execute_result",
          "data": {
            "text/plain": [
              "<Axes: >"
            ]
          },
          "metadata": {},
          "execution_count": 37
        },
        {
          "output_type": "display_data",
          "data": {
            "text/plain": [
              "<Figure size 640x480 with 1 Axes>"
            ],
            "image/png": "[encoded data removed]"
          },
          "metadata": {}
        }
      ]
    },
    {
      "cell_type": "code",
      "source": [
        "coords[:5]"
      ],
      "metadata": {
        "colab": {
          "base_uri": "https://localhost:8080/"
        },
        "id": "wzgEQwAm-bld",
        "outputId": "d352fba7-a8bf-447f-ce4c-d800fa2a5179"
      },
      "execution_count": 38,
      "outputs": [
        {
          "output_type": "execute_result",
          "data": {
            "text/plain": [
              "array([[ 0.78336424,  2.39960292],\n",
              "       [ 1.53482805,  3.54146326],\n",
              "       [ 2.21204906,  2.44404144],\n",
              "       [-0.22001713,  1.22028237],\n",
              "       [ 1.80250562,  3.08577964]])"
            ]
          },
          "metadata": {},
          "execution_count": 38
        }
      ]
    },
    {
      "cell_type": "code",
      "source": [
        "def find_cluster_center(coords):\n",
        "  \"\"\"\n",
        "  Находит координаты центра кластера.\n",
        "\n",
        "  Args:\n",
        "    coords: Массив координат точек кластера.\n",
        "\n",
        "  Returns:\n",
        "    Координаты центра кластера.\n",
        "  \"\"\"\n",
        "  center = np.mean(coords, axis=0)\n",
        "  return center\n",
        "\n",
        "# Пример использования:\n",
        "coords = np.array([[1, 2], [3, 4], [5, 6]])\n",
        "center = find_cluster_center(coords)\n",
        "print(\"Координаты центра кластера:\", center)"
      ],
      "metadata": {
        "id": "ijC5MWzA-biZ",
        "outputId": "28556ff6-643a-48f0-afd3-4b89546369d6",
        "colab": {
          "base_uri": "https://localhost:8080/"
        }
      },
      "execution_count": 39,
      "outputs": [
        {
          "output_type": "stream",
          "name": "stdout",
          "text": [
            "Координаты центра кластера: [3. 4.]\n"
          ]
        }
      ]
    },
    {
      "cell_type": "code",
      "source": [],
      "metadata": {
        "id": "IqXAI2Umy8Za"
      },
      "execution_count": null,
      "outputs": []
    },
    {
      "cell_type": "markdown",
      "source": [
        "# Task_15*\n",
        "\n",
        "Решив предыдущую задачу, вычислите все расстояния от каждой точки до центроида. Результат представьте в виде одномерного массива.\n",
        "\n",
        "$$\\rho(m_i, m_{centr}) = \\sqrt{(x_{m_i} - x_{m_{centr}})^2 + ((y_{m_i} - y_{m_{centr}})^2}$$"
      ],
      "metadata": {
        "id": "Os2jQT4jH5Rk"
      }
    },
    {
      "cell_type": "code",
      "source": [
        "\n",
        "def find_cluster_center(coords):\n",
        "  \"\"\"\n",
        "  Находит координаты центра кластера.\n",
        "\n",
        "  Args:\n",
        "    coords: Массив координат точек кластера.\n",
        "\n",
        "  Returns:\n",
        "    Координаты центра кластера.\n",
        "  \"\"\"\n",
        "  center = np.mean(coords, axis=0)\n",
        "  return center\n",
        "\n",
        "\n",
        "coords = np.array([[1, 2], [3, 4], [5, 6]])\n",
        "center = find_cluster_center(coords)\n",
        "print(\"Координаты центра кластера:\", center)\n",
        "\n",
        "def calculate_distances_to_centroid(coords):\n",
        "  \"\"\"\n",
        "  Вычисляет расстояния от каждой точки до центроида.\n",
        "\n",
        "  Args:\n",
        "    coords: Массив координат точек кластера.\n",
        "\n",
        "  Returns:\n",
        "    Одномерный массив расстояний.\n",
        "  \"\"\"\n",
        "  centroid = find_cluster_center(coords)\n",
        "  distances = np.sqrt(np.sum((coords - centroid)**2, axis=1))\n",
        "  return distances\n",
        "\n",
        "\n",
        "coords = np.array([[1, 2], [3, 4], [5, 6]])\n",
        "distances = calculate_distances_to_centroid(coords)\n",
        "print(\"Расстояния от каждой точки до центроида:\", distances)"
      ],
      "metadata": {
        "id": "hfX2Xpzmy8Wm",
        "outputId": "693aebee-6a0c-4e01-c2a9-6423ba2e7abb",
        "colab": {
          "base_uri": "https://localhost:8080/"
        }
      },
      "execution_count": 40,
      "outputs": [
        {
          "output_type": "stream",
          "name": "stdout",
          "text": [
            "Координаты центра кластера: [3. 4.]\n",
            "Расстояния от каждой точки до центроида: [2.82842712 0.         2.82842712]\n"
          ]
        }
      ]
    },
    {
      "cell_type": "code",
      "source": [],
      "metadata": {
        "id": "XbZ_GSMny8T4"
      },
      "execution_count": null,
      "outputs": []
    },
    {
      "cell_type": "code",
      "source": [],
      "metadata": {
        "id": "987zrQabJR3R"
      },
      "execution_count": null,
      "outputs": []
    },
    {
      "cell_type": "markdown",
      "source": [
        "# Clustering_Task***"
      ],
      "metadata": {
        "id": "FS989ZNSJNJg"
      }
    },
    {
      "cell_type": "markdown",
      "source": [
        "Даны два гаусова кластера - два облака точек, распределенных вокруг заданных центроидов в двумерном пространстве. Кластеры будем называть 1 и -1.\n",
        "\n",
        "`centroids` - массив, где две строки - это координаты $x$ и $y$ центроидов 1 и -1.\n",
        "\n",
        "Каждой точке, которая задана координатами в массиве coords, постаьте в соответствие метку кластера 1 или -1 в зависимости от того, к какомы центроиду эта точка ближе. Вы получите одномерный массив с количеством элементов равному количеству точек."
      ],
      "metadata": {
        "id": "h0PGZio0KTaI"
      }
    },
    {
      "cell_type": "code",
      "source": [
        "centroids = np.array([[5, 2], [-1, 7]])\n",
        "coords = np.concatenate([np.random.randn(70, 2)+centroids[0], np.random.randn(50, 2)+centroids[1]], axis=0)\n",
        "coords[:5]"
      ],
      "metadata": {
        "id": "QzVTBFTdsh13",
        "colab": {
          "base_uri": "https://localhost:8080/"
        },
        "outputId": "07dcafc9-5b38-4fab-a7e2-f39d1281b49e"
      },
      "execution_count": null,
      "outputs": [
        {
          "output_type": "execute_result",
          "data": {
            "text/plain": [
              "array([[4.06398417, 3.57509006],\n",
              "       [4.67919785, 2.42315534],\n",
              "       [4.52334976, 0.84717518],\n",
              "       [4.34530081, 0.20449208],\n",
              "       [5.74168581, 1.62014972]])"
            ]
          },
          "metadata": {},
          "execution_count": 82
        }
      ]
    },
    {
      "cell_type": "code",
      "source": [
        "sns.scatterplot(x = coords[:, 0], y = coords[:, 1], color='green')\n",
        "sns.scatterplot(x = centroids[:, 0], y = centroids[:, 1], color='red')"
      ],
      "metadata": {
        "id": "adau0AjxshsS",
        "colab": {
          "base_uri": "https://localhost:8080/",
          "height": 447
        },
        "outputId": "d6a03f84-dcdb-4c3a-8245-a69a305b0a01"
      },
      "execution_count": null,
      "outputs": [
        {
          "output_type": "execute_result",
          "data": {
            "text/plain": [
              "<Axes: >"
            ]
          },
          "metadata": {},
          "execution_count": 85
        },
        {
          "output_type": "display_data",
          "data": {
            "text/plain": [
              "<Figure size 640x480 with 1 Axes>"
            ],
            "image/png": "[encoded data removed]"
          },
          "metadata": {}
        }
      ]
    },
    {
      "cell_type": "code",
      "source": [
        "\n",
        "import numpy as np\n",
        "\n",
        "def assign_cluster_labels(centroids, coords):\n",
        "  \"\"\"\n",
        "  Присваивает метки кластеров точкам в зависимости от близости к центроидам.\n",
        "\n",
        "  Args:\n",
        "    centroids: Массив координат центроидов (2 строки, 2 столбца).\n",
        "    coords: Массив координат точек (n строк, 2 столбца).\n",
        "\n",
        "  Returns:\n",
        "    Одномерный массив меток кластеров (1 или -1) для каждой точки.\n",
        "  \"\"\"\n",
        "  labels = []\n",
        "  for coord in coords:\n",
        "    distance_to_centroid_1 = np.linalg.norm(coord - centroids[0])\n",
        "    distance_to_centroid_2 = np.linalg.norm(coord - centroids[1])\n",
        "    if distance_to_centroid_1 < distance_to_centroid_2:\n",
        "      labels.append(1)\n",
        "    else:\n",
        "      labels.append(-1)\n",
        "  return np.array(labels)\n",
        "\n",
        "\n",
        "\n",
        "centroids = np.array([[5, 2], [-1, 7]])\n",
        "coords = np.concatenate([np.random.randn(70, 2) + centroids[0], np.random.randn(50, 2) + centroids[1]], axis=0)\n",
        "labels = assign_cluster_labels(centroids, coords)\n",
        "print(\"Метки кластеров для точек:\", labels)"
      ],
      "metadata": {
        "id": "jCDA-o8LshqM",
        "outputId": "ee56764d-50b3-4a96-873c-de9290a9fa61",
        "colab": {
          "base_uri": "https://localhost:8080/"
        }
      },
      "execution_count": 41,
      "outputs": [
        {
          "output_type": "stream",
          "name": "stdout",
          "text": [
            "Метки кластеров для точек: [ 1  1  1  1  1  1  1  1  1  1  1  1  1  1  1  1  1  1  1  1  1  1  1  1\n",
            "  1  1  1  1  1  1  1  1  1  1  1  1  1  1  1  1  1  1  1  1  1  1  1  1\n",
            "  1  1  1  1  1  1  1  1  1  1  1  1  1  1  1  1  1  1  1  1  1  1 -1 -1\n",
            " -1 -1 -1 -1 -1 -1 -1 -1 -1 -1 -1 -1 -1 -1 -1 -1 -1 -1 -1 -1 -1 -1 -1 -1\n",
            " -1 -1 -1 -1 -1 -1 -1 -1 -1 -1 -1 -1 -1 -1 -1 -1 -1 -1 -1 -1 -1 -1 -1 -1]\n"
          ]
        }
      ]
    },
    {
      "cell_type": "code",
      "source": [],
      "metadata": {
        "id": "0ivVyZUbbvYC"
      },
      "execution_count": null,
      "outputs": []
    },
    {
      "cell_type": "code",
      "source": [],
      "metadata": {
        "id": "c0eLrVw2bZVn"
      },
      "execution_count": null,
      "outputs": []
    },
    {
      "cell_type": "code",
      "source": [],
      "metadata": {
        "id": "1Wv-w0nX1ff7"
      },
      "execution_count": null,
      "outputs": []
    }
  ]
}